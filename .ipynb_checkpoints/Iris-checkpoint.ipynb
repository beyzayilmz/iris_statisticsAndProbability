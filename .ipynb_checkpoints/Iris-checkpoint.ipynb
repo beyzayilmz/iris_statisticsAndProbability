{
 "cells": [
  {
   "cell_type": "code",
   "execution_count": 29,
   "id": "552dc13a-c7e5-4cdc-96cf-54b5fa36bcc4",
   "metadata": {},
   "outputs": [
    {
     "data": {
      "text/html": [
       "<div>\n",
       "<style scoped>\n",
       "    .dataframe tbody tr th:only-of-type {\n",
       "        vertical-align: middle;\n",
       "    }\n",
       "\n",
       "    .dataframe tbody tr th {\n",
       "        vertical-align: top;\n",
       "    }\n",
       "\n",
       "    .dataframe thead th {\n",
       "        text-align: right;\n",
       "    }\n",
       "</style>\n",
       "<table border=\"1\" class=\"dataframe\">\n",
       "  <thead>\n",
       "    <tr style=\"text-align: right;\">\n",
       "      <th></th>\n",
       "      <th>Id</th>\n",
       "      <th>SepalLengthCm</th>\n",
       "      <th>SepalWidthCm</th>\n",
       "      <th>PetalLengthCm</th>\n",
       "      <th>PetalWidthCm</th>\n",
       "      <th>Species</th>\n",
       "    </tr>\n",
       "  </thead>\n",
       "  <tbody>\n",
       "    <tr>\n",
       "      <th>0</th>\n",
       "      <td>1</td>\n",
       "      <td>5.1</td>\n",
       "      <td>3.5</td>\n",
       "      <td>1.4</td>\n",
       "      <td>0.2</td>\n",
       "      <td>Iris-setosa</td>\n",
       "    </tr>\n",
       "    <tr>\n",
       "      <th>1</th>\n",
       "      <td>2</td>\n",
       "      <td>4.9</td>\n",
       "      <td>3.0</td>\n",
       "      <td>1.4</td>\n",
       "      <td>0.2</td>\n",
       "      <td>Iris-setosa</td>\n",
       "    </tr>\n",
       "    <tr>\n",
       "      <th>2</th>\n",
       "      <td>3</td>\n",
       "      <td>4.7</td>\n",
       "      <td>3.2</td>\n",
       "      <td>1.3</td>\n",
       "      <td>0.2</td>\n",
       "      <td>Iris-setosa</td>\n",
       "    </tr>\n",
       "    <tr>\n",
       "      <th>3</th>\n",
       "      <td>4</td>\n",
       "      <td>4.6</td>\n",
       "      <td>3.1</td>\n",
       "      <td>1.5</td>\n",
       "      <td>0.2</td>\n",
       "      <td>Iris-setosa</td>\n",
       "    </tr>\n",
       "    <tr>\n",
       "      <th>4</th>\n",
       "      <td>5</td>\n",
       "      <td>5.0</td>\n",
       "      <td>3.6</td>\n",
       "      <td>1.4</td>\n",
       "      <td>0.2</td>\n",
       "      <td>Iris-setosa</td>\n",
       "    </tr>\n",
       "  </tbody>\n",
       "</table>\n",
       "</div>"
      ],
      "text/plain": [
       "   Id  SepalLengthCm  SepalWidthCm  PetalLengthCm  PetalWidthCm      Species\n",
       "0   1            5.1           3.5            1.4           0.2  Iris-setosa\n",
       "1   2            4.9           3.0            1.4           0.2  Iris-setosa\n",
       "2   3            4.7           3.2            1.3           0.2  Iris-setosa\n",
       "3   4            4.6           3.1            1.5           0.2  Iris-setosa\n",
       "4   5            5.0           3.6            1.4           0.2  Iris-setosa"
      ]
     },
     "execution_count": 29,
     "metadata": {},
     "output_type": "execute_result"
    }
   ],
   "source": [
    "import pandas as pd\n",
    "import numpy as np\n",
    "iris = pd.read_csv(\"Iris.csv\")\n",
    "iris.head()#ilk 5 row"
   ]
  },
  {
   "cell_type": "code",
   "execution_count": 58,
   "id": "2fe69991-8d33-406c-b421-55939755e1b5",
   "metadata": {},
   "outputs": [
    {
     "data": {
      "text/plain": [
       "0    5.1\n",
       "1    4.9\n",
       "2    4.7\n",
       "3    4.6\n",
       "4    5.0\n",
       "Name: SepalLengthCm, dtype: float64"
      ]
     },
     "execution_count": 58,
     "metadata": {},
     "output_type": "execute_result"
    }
   ],
   "source": [
    "veri[\"SepalLengthCm\"].head()"
   ]
  },
  {
   "cell_type": "code",
   "execution_count": 15,
   "id": "8a015db5-a3ea-4e9b-9b58-364e37c4095c",
   "metadata": {},
   "outputs": [
    {
     "data": {
      "text/plain": [
       "0    5.1\n",
       "1    4.9\n",
       "2    4.7\n",
       "3    4.6\n",
       "4    5.0\n",
       "Name: SepalLengthCm, dtype: float64"
      ]
     },
     "execution_count": 15,
     "metadata": {},
     "output_type": "execute_result"
    }
   ],
   "source": [
    "sepal_length = iris[\"SepalLengthCm\"] #sepal uzunluğu kullanıyorum\n",
    "sepal_length.head()"
   ]
  },
  {
   "cell_type": "code",
   "execution_count": 6,
   "id": "f1bc13bc-3125-4638-8f6d-c05e8bfd780d",
   "metadata": {},
   "outputs": [
    {
     "data": {
      "text/plain": [
       "count    150.000000\n",
       "mean       5.843333\n",
       "std        0.828066\n",
       "min        4.300000\n",
       "25%        5.100000\n",
       "50%        5.800000\n",
       "75%        6.400000\n",
       "max        7.900000\n",
       "Name: SepalLengthCm, dtype: float64"
      ]
     },
     "execution_count": 6,
     "metadata": {},
     "output_type": "execute_result"
    }
   ],
   "source": [
    "#istatistiksel özet\n",
    "sepal_length.describe()"
   ]
  },
  {
   "cell_type": "code",
   "execution_count": 3,
   "id": "4dbcc824-01bb-4aec-aaef-141151be5030",
   "metadata": {},
   "outputs": [
    {
     "name": "stdout",
     "output_type": "stream",
     "text": [
      "\n",
      "Descriptive Statistics:\n",
      "Mean: 5.84\n",
      "Median: 5.80\n",
      "Variance: 0.69\n",
      "Standard Deviation: 0.83\n",
      "Standard Error: 0.07\n"
     ]
    }
   ],
   "source": [
    "n = len(sepal_length)\n",
    "\n",
    "# mean hesap\n",
    "mean = sum(sepal_length) / n\n",
    "\n",
    "#median\n",
    "sorted_lengths = sorted(sepal_length) #değerleri sort et küçükten büyüğe\n",
    "if n % 2 == 0:\n",
    "    #ortadaki iki değerin ortalamsı\n",
    "    median = (sorted_lengths[n//2 - 1] + sorted_lengths[n//2]) / 2\n",
    "else:\n",
    "    #ortadaki değr\n",
    "    median = sorted_lengths[n//2]\n",
    "\n",
    "#varience\n",
    "squared_diffs = [(x - mean)**2 for x in sepal_length]\n",
    "variance = sum(squared_diffs) / (n - 1)\n",
    "\n",
    "#standard deviation\n",
    "std_dev = variance ** 0.5\n",
    "\n",
    "#standard eror\n",
    "standard_error = std_dev / (n ** 0.5)\n",
    "\n",
    "print(\"\\nDescriptive Statistics:\")\n",
    "print(f\"Mean: {mean:.2f}\")#2 basamak\n",
    "print(f\"Median: {median:.2f}\")\n",
    "print(f\"Variance: {variance:.2f}\")\n",
    "print(f\"Standard Deviation: {std_dev:.2f}\")\n",
    "print(f\"Standard Error: {standard_error:.2f}\")"
   ]
  },
  {
   "cell_type": "code",
   "execution_count": 70,
   "id": "42d0216a-a4da-4e0a-b2da-f65899e55f46",
   "metadata": {},
   "outputs": [
    {
     "name": "stdout",
     "output_type": "stream",
     "text": [
      "Data Visualization:\n"
     ]
    },
    {
     "data": {
      "image/png": "[encoded data removed]",
      "text/plain": [
       "<Figure size 1000x600 with 1 Axes>"
      ]
     },
     "metadata": {},
     "output_type": "display_data"
    },
    {
     "data": {
      "image/png": "[encoded data removed]",
      "text/plain": [
       "<Figure size 600x200 with 1 Axes>"
      ]
     },
     "metadata": {},
     "output_type": "display_data"
    },
    {
     "name": "stdout",
     "output_type": "stream",
     "text": [
      "Mean: 5.84\n",
      "Median: 5.80\n",
      "Min: 4.30\n",
      "Max: 7.90\n",
      "Q1: 5.10\n",
      "Q3: 6.40\n",
      "IQR: 1.30\n",
      "Potential lower outliers (below 3.15): 0 values. Examples: []\n",
      "Potential upper outliers (above 8.35): 0 values. Examples: []\n"
     ]
    }
   ],
   "source": [
    "import matplotlib.pyplot as plt\n",
    "import seaborn as sns\n",
    "\n",
    "print(\"Data Visualization:\")\n",
    "#histogram\n",
    "plt.figure(figsize=(10, 6))\n",
    "sns.histplot(veri[\"SepalLengthCm\"], bins=16, kde=True, color='skyblue', edgecolor='black')\n",
    "plt.title('Histogram of Sepal Length (cm)')\n",
    "plt.xlabel('Sepal Length (cm)')\n",
    "plt.ylabel('Frequency')\n",
    "plt.grid(axis='y', alpha=0.75)\n",
    "plt.show()\n",
    "\n",
    "#boxplot\n",
    "plt.figure(figsize=(6, 2))\n",
    "sns.boxplot(x=veri[\"SepalLengthCm\"], color=\"pink\")\n",
    "plt.title(\"Boxplot of Sepal Length (cm)\")\n",
    "plt.xlabel(\"Sepal Length (cm)\")\n",
    "plt.grid(True)\n",
    "plt.show()\n",
    "\n",
    "\n",
    "mean_val = sepal_length.mean()\n",
    "median_val = sepal_length.median()\n",
    "Q1 = sepal_length.quantile(0.25) #alt sınır\n",
    "Q3 = sepal_length.quantile(0.75) #üst sınır\n",
    "IQR = Q3 - Q1 #verinin yoğunlaştığı alan\n",
    "min_val = sepal_length.min()\n",
    "max_val = sepal_length.max()\n",
    "\n",
    "print(f\"Mean: {mean_val:.2f}\")\n",
    "print(f\"Median: {median_val:.2f}\")\n",
    "print(f\"Min: {min_val:.2f}\")\n",
    "print(f\"Max: {max_val:.2f}\")\n",
    "print(f\"Q1: {Q1:.2f}\")\n",
    "print(f\"Q3: {Q3:.2f}\")\n",
    "print(f\"IQR: {IQR:.2f}\")\n",
    "\n",
    "#outlier\n",
    "lower = Q1 - 1.5 * IQR #alt aykırı değer\n",
    "upper = Q3 + 1.5 * IQR #üst aykırı değer\n",
    "outliers_lower = sepal_length[sepal_length < lower] #alt sınırın altında kalan değerler\n",
    "outliers_upper = sepal_length[sepal_length > upper] #üst sınırın altında kalan değerler\n",
    "\n",
    "print(f\"Potential lower outliers (below {lower:.2f}): {len(outliers_lower)} values. Examples: {outliers_lower.unique()[:5]}\")\n",
    "print(f\"Potential upper outliers (above {upper:.2f}): {len(outliers_upper)} values. Examples: {outliers_upper.unique()[:5]}\")\n",
    "\n"
   ]
  },
  {
   "cell_type": "code",
   "execution_count": null,
   "id": "434fdcfc-21b7-48f4-871d-376122806e28",
   "metadata": {},
   "outputs": [],
   "source": []
  },
  {
   "cell_type": "code",
   "execution_count": 67,
   "id": "fa04f4c0-a8da-40c8-90d4-d22c8c306ebc",
   "metadata": {},
   "outputs": [
    {
     "name": "stdout",
     "output_type": "stream",
     "text": [
      "Confidince Intervals:\n",
      "95% Confidence Interval for Population Mean (μ): (5.71, 5.98)\n",
      "95% Confidence Interval for Population Variance (σ^2): [0.553, 0.873] cm²\n"
     ]
    }
   ],
   "source": [
    "from scipy import stats\n",
    "\n",
    "print(\"Confidince Intervals:\")\n",
    "\n",
    "mean_val = sepal_length.mean()\n",
    "std_dev = sepal_length.std()\n",
    "variance_val = sepal_length.var()\n",
    "n = len(sepal_length)\n",
    "alpha = 0.05  #%95 güven aralığı\n",
    "\n",
    "#ortalama için güven aralığı (t-distribution)\n",
    "standard_error = std_dev / (n ** 0.5)\n",
    "t_critical = stats.t.ppf(1 - alpha/2, df=n-1)\n",
    "margin_error_mean = t_critical * standard_error\n",
    "ci_mean_lower = mean_val - margin_error_mean\n",
    "ci_mean_upper = mean_val + margin_error_mean\n",
    "\n",
    "print(f\"95% Confidence Interval for Population Mean (μ): ({ci_mean_lower:.2f}, {ci_mean_upper:.2f})\")\n",
    "\n",
    "#varyans için güven aralığı (chi-square distribution)\n",
    "chi2_lower = stats.chi2.ppf(alpha/2, df=n-1)\n",
    "chi2_upper = stats.chi2.ppf(1 - alpha/2, df=n-1)\n",
    "ci_var_lower = (n - 1) * variance_val / chi2_upper\n",
    "ci_var_upper = (n - 1) * variance_val / chi2_lower\n",
    "\n",
    "print(f\"95% Confidence Interval for Population Variance (σ^2): [{ci_var_lower:.3f}, {ci_var_upper:.3f}] cm²\")\n"
   ]
  },
  {
   "cell_type": "code",
   "execution_count": 4,
   "id": "2e161851-eea7-46ab-9ce5-ecdd58f051e9",
   "metadata": {},
   "outputs": [
    {
     "name": "stdout",
     "output_type": "stream",
     "text": [
      "Sample Size Estimation:\n",
      "Estimated Population Standard Deviation (σ, using sample s): 0.828\n",
      "The formula n = (Z * σ / E)² was used.\n",
      " - Z: 1.645\n",
      "Minimum sample size needed: 186\n"
     ]
    }
   ],
   "source": [
    "import numpy as np\n",
    "from scipy import stats\n",
    "\n",
    "print(\"Sample Size Estimation:\")\n",
    "\n",
    "sigma = sepal_length.std()\n",
    "print(f\"Estimated Population Standard Deviation (σ, using sample s): {sigma:.3f}\")\n",
    "\n",
    "#hata payı\n",
    "E = 0.1\n",
    "\n",
    "#90 confidence\n",
    "z = stats.norm.ppf(1 - 0.05)  # = 1.645\n",
    "print(f\"The formula n = (Z * σ / E)² was used.\")\n",
    "print(f\" - Z: {z:.3f}\")\n",
    "\n",
    "#min\n",
    "n = (z * sigma / E) ** 2\n",
    "n = np.ceil(n)  # yukarı yuvarla çünkü örneklem sayısı tam sayı olmalı\n",
    "\n",
    "print(f\"Minimum sample size needed: {int(n)}\")\n"
   ]
  },
  {
   "cell_type": "code",
   "execution_count": 6,
   "id": "b0660c51-e7ec-444e-9328-268846588a16",
   "metadata": {},
   "outputs": [
    {
     "name": "stdout",
     "output_type": "stream",
     "text": [
      "Hypothesis Test: Mean SepalLengthCm = 6?\n",
      "Null Hypothesis (H₀): μ = 6\n",
      "Alternative Hypothesis (H₁): μ ≠ 6\n",
      "Test statistic (t): -2.3172\n",
      "p-value: 0.021857\n",
      "Decision at alpha = 0.05: Reject H₀\n"
     ]
    }
   ],
   "source": [
    "from scipy import stats\n",
    "\n",
    "# Veriyi al\n",
    "sepal_length = iris[\"SepalLengthCm\"]\n",
    "\n",
    "# H0: Ortalama = 6\n",
    "# H1: Ortalama ≠ 6\n",
    "\n",
    "# Tek örneklem t-testi\n",
    "t_stat, p_value = stats.ttest_1samp(sepal_length, popmean=6)\n",
    "\n",
    "# Anlamlılık düzeyi\n",
    "alpha = 0.05\n",
    "\n",
    "# Karar\n",
    "if p_value < alpha:\n",
    "    decision = \"Reject H₀\"\n",
    "else:\n",
    "    decision = \"Fail to Reject H₀\"\n",
    "\n",
    "# Sonuçları yazdır\n",
    "print(\"Hypothesis Test: Mean SepalLengthCm = 6?\")\n",
    "print(\"Null Hypothesis (H₀): μ = 6\")\n",
    "print(\"Alternative Hypothesis (H₁): μ ≠ 6\")\n",
    "print(f\"Test statistic (t): {t_stat:.4f}\")\n",
    "print(f\"p-value: {p_value:.6f}\")\n",
    "print(f\"Decision at alpha = {alpha}: {decision}\")\n"
   ]
  },
  {
   "cell_type": "code",
   "execution_count": null,
   "id": "2bb5561e-5f64-4b5b-a49a-438ff5de6d68",
   "metadata": {},
   "outputs": [],
   "source": []
  }
 ],
 "metadata": {
  "kernelspec": {
   "display_name": "Python 3 (ipykernel)",
   "language": "python",
   "name": "python3"
  },
  "language_info": {
   "codemirror_mode": {
    "name": "ipython",
    "version": 3
   },
   "file_extension": ".py",
   "mimetype": "text/x-python",
   "name": "python",
   "nbconvert_exporter": "python",
   "pygments_lexer": "ipython3",
   "version": "3.12.10"
  }
 },
 "nbformat": 4,
 "nbformat_minor": 5
}
